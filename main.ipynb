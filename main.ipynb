{
 "cells": [
  {
   "cell_type": "markdown",
   "metadata": {},
   "source": [
    "# Library"
   ]
  },
  {
   "cell_type": "code",
   "execution_count": 1,
   "metadata": {},
   "outputs": [],
   "source": [
    "import os\n",
    "from os import listdir\n",
    "from os.path import isfile, join\n",
    "import json\n",
    "\n",
    "import numpy as np\n",
    "\n",
    "import krippendorff\n",
    "\n",
    "from sklearn.metrics import f1_score, precision_score,recall_score, confusion_matrix, ConfusionMatrixDisplay\n",
    "\n",
    "import matplotlib.pyplot as plt"
   ]
  },
  {
   "cell_type": "markdown",
   "metadata": {},
   "source": [
    "## BRAT File Reader"
   ]
  },
  {
   "cell_type": "code",
   "execution_count": 2,
   "metadata": {},
   "outputs": [],
   "source": [
    "def read_file_brat(file_name_ann, dict_file = dict()):\n",
    "\n",
    "    #file_name_ann is ann file in brat folder\n",
    "    #dict_file optional. Can increment a dictionary if pass as parameter.\n",
    "    #if not it will create from scratch\n",
    "\n",
    "    #txt file name\n",
    "    #need to be in same folder\n",
    "    file_name_txt = file_name_ann[:-3] + 'txt'\n",
    "\n",
    "    if os.path.isfile(file_name_ann) and os.path.isfile(file_name_txt):\n",
    "\n",
    "        #annotated file\n",
    "        f = open(file_name_ann)\n",
    "        annot_file_list = f.readlines()\n",
    "        annot_file_list = [x.replace('\\n','') for x in annot_file_list]\n",
    "\n",
    "        #raw file\n",
    "        f = open(file_name_txt)\n",
    "        raw_file_list = f.readlines()\n",
    "        raw_file_list = [x.replace('\\n','') for x in raw_file_list]\n",
    "\n",
    "        #fill all IDs from raw text\n",
    "        for x in raw_file_list:\n",
    "            dict_file[x.split('     ')[0]] = \"\"\n",
    "\n",
    "        #put labels on ids\n",
    "        for x in annot_file_list:\n",
    "            slices = x.split('\\t')\n",
    "            if slices[0][0]=='T':\n",
    "                dict_file[slices[2]] = slices[1].split(' ')[0]\n",
    "\n",
    "        \n",
    "        #return final dict\n",
    "        return dict_file\n",
    "\n",
    "    else:\n",
    "        print(\"Check de files. Maybe they dont exist in folder.\")\n",
    "        return dict()"
   ]
  },
  {
   "cell_type": "markdown",
   "metadata": {},
   "source": [
    "## Dictionary to JSON Converter"
   ]
  },
  {
   "cell_type": "code",
   "execution_count": 3,
   "metadata": {},
   "outputs": [],
   "source": [
    "import json\n",
    "\n",
    "# dict = the dictionary to convert, file_path = the path where the converted file will be saved\n",
    "def dict_to_json(dict_file, file_path):\n",
    "\n",
    "    try:\n",
    "        with open(file_path, 'w') as json_file:\n",
    "            json.dump(dict_file, json_file, indent=4)\n",
    "        print(f\"JSON file has been created at {file_path}\")\n",
    "    except Exception as e:\n",
    "        print(f\"An error occurred: {e}\")"
   ]
  },
  {
   "cell_type": "markdown",
   "metadata": {},
   "source": [
    "# Read Files"
   ]
  },
  {
   "cell_type": "code",
   "execution_count": 4,
   "metadata": {},
   "outputs": [
    {
     "name": "stdout",
     "output_type": "stream",
     "text": [
      "JSON file has been created at Z/zuil_dict.json\n",
      "JSON file has been created at L/luiza_dict.json\n"
     ]
    }
   ],
   "source": [
    "# empty dictionary\n",
    "import os \n",
    "\n",
    "zuil_dict = {}\n",
    "\n",
    "zuil_dict = read_file_brat('Z/EST_R07_Z.ann', zuil_dict)\n",
    "zuil_dict = read_file_brat('Z/EST_R10_Z.ann', zuil_dict)\n",
    "zuil_dict = read_file_brat('Z/RAC_R07_Z.ann', zuil_dict)\n",
    "zuil_dict = read_file_brat('Z/VAC_R02_Z.ann', zuil_dict)\n",
    "zuil_dict = read_file_brat('Z/VES_R05_Z.ann', zuil_dict)\n",
    "\n",
    "dict_to_json(zuil_dict, 'Z/zuil_dict.json')\n",
    "\n",
    "luiza_dict = {}\n",
    "\n",
    "luiza_dict = read_file_brat('L/EST_R07_L.ann', luiza_dict)\n",
    "luiza_dict = read_file_brat('L/EST_R10_L.ann', luiza_dict)\n",
    "luiza_dict = read_file_brat('L/RAC_R07_L.ann', luiza_dict)\n",
    "luiza_dict = read_file_brat('L/VAC_R02_L.ann', luiza_dict)\n",
    "luiza_dict = read_file_brat('L/VES_R05_L.ann', luiza_dict)\n",
    "\n",
    "dict_to_json(luiza_dict, 'L/luiza_dict.json')\n"
   ]
  },
  {
   "cell_type": "markdown",
   "metadata": {},
   "source": [
    "## Methodology #1\n",
    "Processing values as 0 if its null and 1 if its '0' or '1'"
   ]
  },
  {
   "cell_type": "code",
   "execution_count": 5,
   "metadata": {},
   "outputs": [],
   "source": [
    "def process_json_values1(json_file, file_path):\n",
    "\n",
    "    with open(json_file, 'r') as file:\n",
    "        input_json = json.load(file)\n",
    "\n",
    "    for key, value in input_json.items():\n",
    "        # if value is '' update to '0', if its 0 or 1, update to '1'\n",
    "        if value == '' or value == '0' or value == '1':\n",
    "            input_json[key] = '0' if value == '' else '1'\n",
    "\n",
    "    with open(file_path, 'w') as file:\n",
    "        json.dump(input_json, file)"
   ]
  },
  {
   "cell_type": "markdown",
   "metadata": {},
   "source": [
    "## Methodology #2\n",
    "Processing values as 0 if its null, 1 if its '0', and 2 if its '1'"
   ]
  },
  {
   "cell_type": "code",
   "execution_count": 6,
   "metadata": {},
   "outputs": [],
   "source": [
    "def process_json_values2(json_file, file_path):\n",
    "\n",
    "    with open(json_file, 'r') as file:\n",
    "        input_json = json.load(file)\n",
    "\n",
    "    for key, value in input_json.items():\n",
    "        # if value is '' update to '0', if its 0 update to '1', if its 1 update to '2'\n",
    "        if value == '':\n",
    "            input_json[key] = '0'\n",
    "        elif value == '0':\n",
    "            input_json[key] = '1'\n",
    "        elif value == '1':\n",
    "            input_json[key] = '2'\n",
    "\n",
    "    with open(file_path, 'w') as file:\n",
    "        json.dump(input_json, file)"
   ]
  },
  {
   "cell_type": "code",
   "execution_count": 8,
   "metadata": {},
   "outputs": [],
   "source": [
    "process_json_values1('Z/zuil_dict.json', 'Z/zuil_dict_m1.json')\n",
    "process_json_values2('Z/zuil_dict.json', 'Z/zuil_dict_m2.json')\n",
    "\n",
    "process_json_values1('L/luiza_dict.json', 'L/luiza_dict_m1.json')\n",
    "process_json_values2('L/luiza_dict.json', 'L/luiza_dict_m2.json')"
   ]
  },
  {
   "cell_type": "markdown",
   "metadata": {},
   "source": [
    "## Methodology #1"
   ]
  },
  {
   "cell_type": "code",
   "execution_count": 24,
   "metadata": {},
   "outputs": [],
   "source": [
    "import json\n",
    "import numpy as np\n",
    "from krippendorff import alpha\n",
    "\n",
    "# load JSON files\n",
    "with open('L/luiza_dict_m1.json') as file:\n",
    "    luiza_annotations = json.load(file)\n",
    "with open('Z/zuil_dict_m1.json') as file:\n",
    "    zuil_annotations = json.load(file)\n",
    "\n",
    "# assuming both annotators annotated the same items and the items are in the same order\n",
    "# extract annotations into a list of lists format for Krippendorff's alpha\n",
    "items = sorted(luiza_annotations.keys())  # in order\n",
    "data_matrix_1 = [[], []]  # Preparing a 2-row matrix for two annotators\n",
    "\n",
    "for item in items:\n",
    "    luiza = luiza_annotations.get(item, None)\n",
    "    zuil = zuil_annotations.get(item, None)\n",
    "    \n",
    "    # append annotations to the matrix if both annotators have annotated the item\n",
    "    if luiza is not None and zuil is not None:\n",
    "        data_matrix_1[0].append(int(luiza))\n",
    "        data_matrix_1[1].append(int(zuil))\n",
    "\n",
    "# convert the lists into a numpy array for alpha calculation\n",
    "data_matrix_1 = np.array(data_matrix_1)\n",
    "# print(data_matrix)\n",
    "# print(data_matrix.shape)"
   ]
  },
  {
   "cell_type": "markdown",
   "metadata": {},
   "source": [
    "# Krippendorff #1"
   ]
  },
  {
   "cell_type": "code",
   "execution_count": 25,
   "metadata": {},
   "outputs": [
    {
     "name": "stdout",
     "output_type": "stream",
     "text": [
      "Agreement A: 0.8315217391304348\n"
     ]
    }
   ],
   "source": [
    "alpha_scalar = alpha(reliability_data=data_matrix_1, level_of_measurement='nominal')\n",
    "print(\"Agreement A:\", alpha_scalar)"
   ]
  },
  {
   "cell_type": "markdown",
   "metadata": {},
   "source": [
    "# Confusion Matrix #1"
   ]
  },
  {
   "cell_type": "code",
   "execution_count": 28,
   "metadata": {},
   "outputs": [
    {
     "data": {
      "image/png": "[encoded data removed]",
      "text/plain": [
       "<Figure size 640x480 with 2 Axes>"
      ]
     },
     "metadata": {},
     "output_type": "display_data"
    }
   ],
   "source": [
    "a = confusion_matrix(data_matrix_1[0],data_matrix_1[1])\n",
    "\n",
    "cm_display = ConfusionMatrixDisplay(confusion_matrix = a, display_labels = [0, 1])\n",
    "\n",
    "cm_display.plot()\n",
    "plt.ylabel( \"Annot 1\") \n",
    "plt.xlabel( \"Annot 2\") \n",
    "plt.show()"
   ]
  },
  {
   "cell_type": "markdown",
   "metadata": {},
   "source": [
    "## Inter-Annotator Agreement - Methodology #2"
   ]
  },
  {
   "cell_type": "code",
   "execution_count": 30,
   "metadata": {},
   "outputs": [
    {
     "name": "stdout",
     "output_type": "stream",
     "text": [
      "Agreement B: 0.7597476129219285\n"
     ]
    }
   ],
   "source": [
    "import json\n",
    "import numpy as np\n",
    "from krippendorff import alpha\n",
    "\n",
    "# Load JSON files\n",
    "with open('L/luiza_dict_m2.json') as file:\n",
    "    luiza_annotations = json.load(file)\n",
    "with open('Z/zuil_dict_m2.json') as file:\n",
    "    zuil_annotations = json.load(file)\n",
    "\n",
    "# Assuming both annotators annotated the same items and the items are in the same order\n",
    "# Extract annotations into a list of lists format for Krippendorff's alpha\n",
    "items = sorted(luiza_annotations.keys())  # Ensure consistent order of items\n",
    "data_matrix_2 = [[], []]  # Preparing a 2-row matrix for two annotators\n",
    "\n",
    "for item in items:\n",
    "    luiza = luiza_annotations.get(item, None)\n",
    "    zuil = zuil_annotations.get(item, None)\n",
    "    \n",
    "    # Append annotations to the matrix if both annotators have annotated the item\n",
    "    if luiza is not None and zuil is not None:\n",
    "        data_matrix_2[0].append(int(luiza))\n",
    "        data_matrix_2[1].append(int(zuil))\n",
    "\n",
    "# Convert the lists into a NumPy array for Krippendorff's alpha calculation\n",
    "data_matrix_2 = np.array(data_matrix_2)\n",
    "\n",
    "# Calculate and print Krippendorff's alpha\n",
    "alpha_scalar = alpha(reliability_data=data_matrix_2, level_of_measurement='nominal')\n",
    "print(\"Agreement B:\", alpha_scalar)\n"
   ]
  },
  {
   "cell_type": "markdown",
   "metadata": {},
   "source": [
    "# Confusion Matrix #2"
   ]
  },
  {
   "cell_type": "code",
   "execution_count": 31,
   "metadata": {},
   "outputs": [
    {
     "data": {
      "image/png": "[encoded data removed]",
      "text/plain": [
       "<Figure size 640x480 with 2 Axes>"
      ]
     },
     "metadata": {},
     "output_type": "display_data"
    }
   ],
   "source": [
    "a = confusion_matrix(data_matrix_2[0],data_matrix_2[1])\n",
    "\n",
    "cm_display = ConfusionMatrixDisplay(confusion_matrix = a, display_labels = [0, 1, 2])\n",
    "\n",
    "cm_display.plot()\n",
    "plt.ylabel( \"Annot 1\") \n",
    "plt.xlabel( \"Annot 2\") \n",
    "plt.show()"
   ]
  }
 ],
 "metadata": {
  "kernelspec": {
   "display_name": "Python 3",
   "language": "python",
   "name": "python3"
  },
  "language_info": {
   "codemirror_mode": {
    "name": "ipython",
    "version": 3
   },
   "file_extension": ".py",
   "mimetype": "text/x-python",
   "name": "python",
   "nbconvert_exporter": "python",
   "pygments_lexer": "ipython3",
   "version": "3.12.2"
  }
 },
 "nbformat": 4,
 "nbformat_minor": 2
}
