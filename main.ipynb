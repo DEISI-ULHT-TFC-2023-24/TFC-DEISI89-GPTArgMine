{
 "cells": [
  {
   "cell_type": "code",
   "execution_count": 4,
   "metadata": {},
   "outputs": [
    {
     "name": "stdout",
     "output_type": "stream",
     "text": [
      "Requirement already satisfied: krippendorff in c:\\users\\lcopo\\appdata\\local\\packages\\pythonsoftwarefoundation.python.3.11_qbz5n2kfra8p0\\localcache\\local-packages\\python311\\site-packages (0.6.1)\n",
      "Requirement already satisfied: numpy<2.0,>=1.21 in c:\\users\\lcopo\\appdata\\local\\packages\\pythonsoftwarefoundation.python.3.11_qbz5n2kfra8p0\\localcache\\local-packages\\python311\\site-packages (from krippendorff) (1.24.4)\n"
     ]
    },
    {
     "name": "stderr",
     "output_type": "stream",
     "text": [
      "\n",
      "[notice] A new release of pip is available: 23.2.1 -> 23.3.2\n",
      "[notice] To update, run: C:\\Users\\lcopo\\AppData\\Local\\Microsoft\\WindowsApps\\PythonSoftwareFoundation.Python.3.11_qbz5n2kfra8p0\\python.exe -m pip install --upgrade pip\n"
     ]
    },
    {
     "name": "stdout",
     "output_type": "stream",
     "text": [
      "Collecting openpyxl\n",
      "  Downloading openpyxl-3.1.2-py2.py3-none-any.whl (249 kB)\n",
      "     ---------------------------------------- 0.0/250.0 kB ? eta -:--:--\n",
      "     ---------------------------------------- 0.0/250.0 kB ? eta -:--:--\n",
      "     - -------------------------------------- 10.2/250.0 kB ? eta -:--:--\n",
      "     ---- -------------------------------- 30.7/250.0 kB 262.6 kB/s eta 0:00:01\n",
      "     ----------------- ------------------ 122.9/250.0 kB 804.6 kB/s eta 0:00:01\n",
      "     -------------------------------------  245.8/250.0 kB 1.5 MB/s eta 0:00:01\n",
      "     -------------------------------------- 250.0/250.0 kB 1.2 MB/s eta 0:00:00\n",
      "Collecting et-xmlfile (from openpyxl)\n",
      "  Downloading et_xmlfile-1.1.0-py3-none-any.whl (4.7 kB)\n",
      "Installing collected packages: et-xmlfile, openpyxl\n",
      "Successfully installed et-xmlfile-1.1.0 openpyxl-3.1.2\n"
     ]
    },
    {
     "name": "stderr",
     "output_type": "stream",
     "text": [
      "\n",
      "[notice] A new release of pip is available: 23.2.1 -> 23.3.2\n",
      "[notice] To update, run: C:\\Users\\lcopo\\AppData\\Local\\Microsoft\\WindowsApps\\PythonSoftwareFoundation.Python.3.11_qbz5n2kfra8p0\\python.exe -m pip install --upgrade pip\n"
     ]
    }
   ],
   "source": [
    "!pip install krippendorff\n",
    "!pip install openpyxl\n"
   ]
  },
  {
   "cell_type": "markdown",
   "metadata": {},
   "source": [
    "## A: 2 Annotators, No missing data"
   ]
  },
  {
   "cell_type": "code",
   "execution_count": 6,
   "metadata": {},
   "outputs": [
    {
     "name": "stdout",
     "output_type": "stream",
     "text": [
      "Agreement: 0.5757753071971914\n"
     ]
    }
   ],
   "source": [
    "import pandas as pd\n",
    "from krippendorff import alpha\n",
    "\n",
    "data = pd.read_excel('table1.xlsx')\n",
    "\n",
    "# drop the first column > timestamps (not used)\n",
    "data_cleaned = data.drop(data.columns[0], axis=1)\n",
    "data_transposed = data_cleaned.transpose()\n",
    "\n",
    "data_matrix = [data_transposed[0].tolist(), data_transposed[1].tolist()]\n",
    "\n",
    "# metric application\n",
    "alpha_scalar = alpha(reliability_data=data_matrix, level_of_measurement='interval')\n",
    "print(\"Agreement:\", alpha_scalar)\n"
   ]
  },
  {
   "cell_type": "markdown",
   "metadata": {},
   "source": [
    "## B: 3 Annotators, No missing data"
   ]
  },
  {
   "cell_type": "code",
   "execution_count": 7,
   "metadata": {},
   "outputs": [
    {
     "name": "stdout",
     "output_type": "stream",
     "text": [
      "Agreement: 0.6373626373626373\n"
     ]
    }
   ],
   "source": [
    "data = pd.read_excel('table2.xlsx')\n",
    "\n",
    "# drop the first column > timestamps (not used)\n",
    "data_cleaned = data.drop(data.columns[0], axis=1)\n",
    "data_transposed = data_cleaned.transpose()\n",
    "\n",
    "data_matrix = [data_transposed[0].tolist(), data_transposed[1].tolist(), data_transposed[2].tolist()]\n",
    "\n",
    "# metric application\n",
    "alpha_scalar = alpha(reliability_data=data_matrix, level_of_measurement='interval')\n",
    "print(\"Agreement:\", alpha_scalar)\n"
   ]
  }
 ],
 "metadata": {
  "kernelspec": {
   "display_name": "Python 3",
   "language": "python",
   "name": "python3"
  },
  "language_info": {
   "codemirror_mode": {
    "name": "ipython",
    "version": 3
   },
   "file_extension": ".py",
   "mimetype": "text/x-python",
   "name": "python",
   "nbconvert_exporter": "python",
   "pygments_lexer": "ipython3",
   "version": "3.11.7"
  }
 },
 "nbformat": 4,
 "nbformat_minor": 2
}
